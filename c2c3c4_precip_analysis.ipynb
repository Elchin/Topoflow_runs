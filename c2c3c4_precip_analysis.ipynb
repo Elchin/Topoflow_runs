{
 "cells": [
  {
   "cell_type": "code",
   "execution_count": 1,
   "metadata": {
    "collapsed": false
   },
   "outputs": [],
   "source": [
    "%matplotlib inline\n",
    "import numpy as np\n",
    "from pandas import Series, DataFrame\n",
    "import pandas as pd\n",
    "import matplotlib.pyplot as plt"
   ]
  },
  {
   "cell_type": "code",
   "execution_count": 2,
   "metadata": {
    "collapsed": false
   },
   "outputs": [],
   "source": [
    "# Download the precip data from the BNZ LTER website and store it in the same folder\n",
    "# Downloaded files should be identical to the p_file names\n",
    "# This seaction prints out headers of the csv files. Units [mm]\n",
    "# Note that all txt files have similar structure\n",
    "p_file='167_TIPBUCK_HR1A_2001-2014.txt'\n",
    "hr1a= pd.read_csv(p_file)\n",
    "\n",
    "p_file='167_TIPBUCK_CPEAK_1993-2014.txt'\n",
    "cpeak= pd.read_csv(p_file)\n",
    "\n",
    "p_file='167_TIPBUCK_CRREL_2007-2014.txt'\n",
    "crrel= pd.read_csv(p_file)\n",
    "\n",
    "p_file='167_TIPBUCK_CARSNOW_2006-2014.txt'\n",
    "carsnow= pd.read_csv(p_file)"
   ]
  },
  {
   "cell_type": "code",
   "execution_count": 3,
   "metadata": {
    "collapsed": false
   },
   "outputs": [
    {
     "name": "stdout",
     "output_type": "stream",
     "text": [
      "CARSNOW file header:\n",
      "    site_id\n",
      "    date\n",
      "    hour\n",
      "    measurement\n",
      "    value\n",
      "    unit\n",
      "    flag\n",
      "Example of first two data rows from the CARSNOW file:\n",
      "    ['CARSNOW' '2006-10-04' 1400 'Tipping Rain Bucket' 0.0 'mm' 'G']\n",
      "    ['CARSNOW' '2006-10-04' 1500 'Tipping Rain Bucket' 0.0 'mm' 'G']\n"
     ]
    }
   ],
   "source": [
    "print 'CARSNOW file header:'\n",
    "for key in Series(carsnow.ix[0,:]).keys():\n",
    "    print \"   \",key\n",
    "print 'Example of first two data rows from the CARSNOW file:'    \n",
    "print \"   \",Series(carsnow.ix[0,:]).values\n",
    "print \"   \",Series(carsnow.ix[1,:]).values"
   ]
  },
  {
   "cell_type": "code",
   "execution_count": 4,
   "metadata": {
    "collapsed": false
   },
   "outputs": [
    {
     "name": "stdout",
     "output_type": "stream",
     "text": [
      "Total number of measurements for each sites:\n",
      "n_hr1a = 109413\n",
      "n_cpeak = 184414\n",
      "n_crrel = 65530\n",
      "n_carsnow = 71810\n"
     ]
    }
   ],
   "source": [
    "d_hr1a=Series(hr1a.ix[:,1]).values  # date column\n",
    "h_hr1a=Series(hr1a.ix[:,2]).values  # hour column\n",
    "p_hr1a=Series(hr1a.ix[:,4]).values  # precip column\n",
    "n_hr1a=len(d_hr1a)\n",
    "\n",
    "d_cpeak=Series(cpeak.ix[:,1]).values\n",
    "h_cpeak=Series(cpeak.ix[:,2]).values\n",
    "p_cpeak=Series(cpeak.ix[:,4]).values\n",
    "n_cpeak=len(d_cpeak)\n",
    "\n",
    "d_crrel=Series(crrel.ix[:,1]).values\n",
    "h_crrel=Series(crrel.ix[:,2]).values\n",
    "p_crrel=Series(crrel.ix[:,4]).values\n",
    "n_crrel=len(d_crrel)\n",
    "\n",
    "d_carsnow=Series(carsnow.ix[:,1]).values\n",
    "h_carsnow=Series(carsnow.ix[:,2]).values\n",
    "p_carsnow=Series(carsnow.ix[:,4]).values\n",
    "n_carsnow=len(d_carsnow)\n",
    "\n",
    "print 'Total number of measurements for each sites:'\n",
    "print 'n_hr1a =',n_hr1a\n",
    "print 'n_cpeak =',n_cpeak\n",
    "print 'n_crrel =',n_crrel\n",
    "print 'n_carsnow =',n_carsnow"
   ]
  },
  {
   "cell_type": "markdown",
   "metadata": {},
   "source": [
    "Below we are going to analyse each rain stations separately using '*do_time_ser_exist*' function"
   ]
  },
  {
   "cell_type": "code",
   "execution_count": 5,
   "metadata": {
    "collapsed": false
   },
   "outputs": [],
   "source": [
    "def do_time_ser_exist(data,hour,start,h_hour,end,p):\n",
    "    # given data and hour\n",
    "    # finds p (precip) time series between start and end period\n",
    "    n=len(data);a=[]; b=[];\n",
    "    for i in range(n):\n",
    "        if data[i]==start and hour[i]==h_hour:\n",
    "            a=i\n",
    "            print data[i],a\n",
    "        if data[i]==end and hour[i]==h_hour:\n",
    "            b=i\n",
    "            print data[i],b\n",
    "    if a==[] or b==[]:\n",
    "        print 'NO DATA'\n",
    "    else:\n",
    "        pp = p[a:b]\n",
    "        pp = pp[~np.isnan(pp)]\n",
    "        if pp.size:\n",
    "            print 'min_precip=',np.min(pp), ' max_precip=',np.max(pp), ',over # of hours:',b-a\n",
    "        else:\n",
    "            print 'EMPTY ARRAY (CORRUPTED DATA)'        "
   ]
  },
  {
   "cell_type": "markdown",
   "metadata": {},
   "source": [
    "**hr1a:** Checking time series for the hr1a site."
   ]
  },
  {
   "cell_type": "code",
   "execution_count": null,
   "metadata": {
    "collapsed": false
   },
   "outputs": [],
   "source": [
    "do_time_ser_exist(d_hr1a,h_hr1a,'2002-06-15',100,'2002-09-15',p_hr1a)\n",
    "do_time_ser_exist(d_hr1a,h_hr1a,'2003-06-15',100,'2003-09-15',p_hr1a)\n",
    "do_time_ser_exist(d_hr1a,h_hr1a,'2004-06-15',100,'2004-08-15',p_hr1a)\n",
    "do_time_ser_exist(d_hr1a,h_hr1a,'2005-06-15',100,'2005-09-15',p_hr1a)\n",
    "do_time_ser_exist(d_hr1a,h_hr1a,'2006-06-15',100,'2006-09-15',p_hr1a)\n",
    "do_time_ser_exist(d_hr1a,h_hr1a,'2007-06-20',100,'2007-09-15',p_hr1a)\n",
    "do_time_ser_exist(d_hr1a,h_hr1a,'2008-06-15',100,'2008-09-15',p_hr1a)\n",
    "do_time_ser_exist(d_hr1a,h_hr1a,'2009-06-15',100,'2009-09-15',p_hr1a)\n",
    "do_time_ser_exist(d_hr1a,h_hr1a,'2010-06-15',100,'2010-09-15',p_hr1a)\n",
    "do_time_ser_exist(d_hr1a,h_hr1a,'2011-06-15',100,'2011-09-15',p_hr1a)\n",
    "do_time_ser_exist(d_hr1a,h_hr1a,'2012-06-15',100,'2012-09-15',p_hr1a)\n",
    "do_time_ser_exist(d_hr1a,h_hr1a,'2013-06-15',100,'2013-09-15',p_hr1a)\n",
    "do_time_ser_exist(d_hr1a,h_hr1a,'2014-06-15',100,'2014-09-15',p_hr1a)"
   ]
  },
  {
   "cell_type": "code",
   "execution_count": null,
   "metadata": {
    "collapsed": false
   },
   "outputs": [],
   "source": [
    "plt.plot(p_hr1a[44528:46616]); plt.title('hr1a summer 2007');"
   ]
  },
  {
   "cell_type": "code",
   "execution_count": null,
   "metadata": {
    "collapsed": false
   },
   "outputs": [],
   "source": [
    "plt.plot(p_hr1a[53192:55400]); plt.title('hr1a summer 2008');"
   ]
  },
  {
   "cell_type": "markdown",
   "metadata": {},
   "source": [
    "**cpeak:** Checking time series for the cpeak site."
   ]
  },
  {
   "cell_type": "code",
   "execution_count": null,
   "metadata": {
    "collapsed": false
   },
   "outputs": [],
   "source": [
    "do_time_ser_exist(d_cpeak,h_cpeak,'2002-06-15',100,'2002-09-15',p_cpeak)\n",
    "do_time_ser_exist(d_cpeak,h_cpeak,'2003-06-15',100,'2003-09-15',p_cpeak)\n",
    "do_time_ser_exist(d_cpeak,h_cpeak,'2004-06-15',100,'2004-09-15',p_cpeak)\n",
    "do_time_ser_exist(d_cpeak,h_cpeak,'2005-06-15',100,'2005-09-15',p_cpeak)\n",
    "do_time_ser_exist(d_cpeak,h_cpeak,'2006-06-15',100,'2006-09-15',p_cpeak)\n",
    "do_time_ser_exist(d_cpeak,h_cpeak,'2007-06-15',100,'2007-09-15',p_cpeak)\n",
    "do_time_ser_exist(d_cpeak,h_cpeak,'2008-06-15',100,'2008-09-15',p_cpeak)\n",
    "do_time_ser_exist(d_cpeak,h_cpeak,'2009-06-15',100,'2009-09-15',p_cpeak)\n",
    "do_time_ser_exist(d_cpeak,h_cpeak,'2010-06-15',100,'2010-09-15',p_cpeak)\n",
    "do_time_ser_exist(d_cpeak,h_cpeak,'2011-06-15',100,'2011-09-15',p_cpeak)\n",
    "do_time_ser_exist(d_cpeak,h_cpeak,'2012-06-15',100,'2012-09-15',p_cpeak)\n",
    "do_time_ser_exist(d_cpeak,h_cpeak,'2013-06-15',100,'2013-09-15',p_cpeak)\n",
    "do_time_ser_exist(d_cpeak,h_cpeak,'2014-06-15',100,'2014-09-15',p_cpeak)"
   ]
  },
  {
   "cell_type": "code",
   "execution_count": null,
   "metadata": {
    "collapsed": false
   },
   "outputs": [],
   "source": [
    "plt.plot(p_cpeak[119894:122102]); plt.title('cpeak summer 2007');"
   ]
  },
  {
   "cell_type": "code",
   "execution_count": null,
   "metadata": {
    "collapsed": false
   },
   "outputs": [],
   "source": [
    "plt.plot(p_cpeak[128678:130886]); plt.title('cpeak summer 2008');"
   ]
  },
  {
   "cell_type": "markdown",
   "metadata": {},
   "source": [
    "**crrel:** Checking time series for the crrel site."
   ]
  },
  {
   "cell_type": "code",
   "execution_count": null,
   "metadata": {
    "collapsed": false
   },
   "outputs": [],
   "source": [
    "do_time_ser_exist(d_crrel,h_crrel,'2007-07-01',100,'2007-09-15',p_crrel)\n",
    "do_time_ser_exist(d_crrel,h_crrel,'2008-06-15',100,'2008-09-15',p_crrel)\n",
    "do_time_ser_exist(d_crrel,h_crrel,'2009-06-15',100,'2009-09-15',p_crrel)\n",
    "do_time_ser_exist(d_crrel,h_crrel,'2010-06-15',100,'2010-09-15',p_crrel)\n",
    "do_time_ser_exist(d_crrel,h_crrel,'2011-06-15',100,'2011-09-15',p_crrel)\n",
    "do_time_ser_exist(d_crrel,h_crrel,'2012-06-15',100,'2012-09-15',p_crrel)\n",
    "do_time_ser_exist(d_crrel,h_crrel,'2013-06-15',100,'2013-09-15',p_crrel)\n",
    "do_time_ser_exist(d_crrel,h_crrel,'2014-06-15',100,'2014-09-15',p_crrel)"
   ]
  },
  {
   "cell_type": "code",
   "execution_count": null,
   "metadata": {
    "collapsed": false
   },
   "outputs": [],
   "source": [
    "plt.plot(p_crrel[0:1813]); plt.title('crrel summer 2007');"
   ]
  },
  {
   "cell_type": "code",
   "execution_count": null,
   "metadata": {
    "collapsed": false
   },
   "outputs": [],
   "source": [
    "plt.plot(p_crrel[8338:10543]); plt.title('crrel summer 2008');"
   ]
  },
  {
   "cell_type": "markdown",
   "metadata": {},
   "source": [
    "**carsnow**: Checking time series for the carsnow site."
   ]
  },
  {
   "cell_type": "code",
   "execution_count": null,
   "metadata": {
    "collapsed": false
   },
   "outputs": [],
   "source": [
    "do_time_ser_exist(d_carsnow,h_carsnow,'2006-07-01',100,'2006-09-15',p_carsnow)\n",
    "do_time_ser_exist(d_carsnow,h_carsnow,'2007-06-15',100,'2007-09-15',p_carsnow)\n",
    "do_time_ser_exist(d_carsnow,h_carsnow,'2008-06-15',100,'2008-09-15',p_carsnow)\n",
    "do_time_ser_exist(d_carsnow,h_carsnow,'2009-06-15',100,'2009-09-15',p_carsnow)\n",
    "do_time_ser_exist(d_carsnow,h_carsnow,'2010-06-15',100,'2010-09-15',p_carsnow)\n",
    "do_time_ser_exist(d_carsnow,h_carsnow,'2011-06-15',100,'2011-09-15',p_carsnow)\n",
    "do_time_ser_exist(d_carsnow,h_carsnow,'2012-06-15',100,'2012-09-15',p_carsnow)\n",
    "do_time_ser_exist(d_carsnow,h_carsnow,'2013-06-15',100,'2013-09-15',p_carsnow)\n",
    "do_time_ser_exist(d_carsnow,h_carsnow,'2014-06-15',100,'2014-09-15',p_carsnow)"
   ]
  },
  {
   "cell_type": "code",
   "execution_count": null,
   "metadata": {
    "collapsed": false
   },
   "outputs": [],
   "source": [
    "plt.plot(p_carsnow[14618:16826]); plt.title('carsnow summer 2008');"
   ]
  },
  {
   "cell_type": "markdown",
   "metadata": {},
   "source": [
    "CPEAK EXAMPLE: Zooming in on the 3 days precipitation events, starting from 2008-07-28, 1 am in the morning "
   ]
  },
  {
   "cell_type": "code",
   "execution_count": 6,
   "metadata": {
    "collapsed": false
   },
   "outputs": [
    {
     "name": "stdout",
     "output_type": "stream",
     "text": [
      "2008-07-28 129710\n",
      "2008-07-31 129782\n",
      "min_precip= 0.0  max_precip= 4.59 ,over # of hours: 72\n"
     ]
    }
   ],
   "source": [
    "# gets the index of start and end date\n",
    "do_time_ser_exist(d_cpeak,h_cpeak,'2008-07-28',100,'2008-07-31',p_cpeak)"
   ]
  },
  {
   "cell_type": "code",
   "execution_count": 7,
   "metadata": {
    "collapsed": false
   },
   "outputs": [
    {
     "name": "stdout",
     "output_type": "stream",
     "text": [
      "Example of the hourly data from CPEAK file:\n",
      "    ['CPEAK' '2008-07-28' 100 'Tipping Rain Bucket' 0.0 'mm' 'G']\n",
      "    ['CPEAK' '2008-07-28' 200 'Tipping Rain Bucket' 0.0 'mm' 'G']\n",
      "    ['CPEAK' '2008-07-28' 300 'Tipping Rain Bucket' 0.0 'mm' 'G']\n",
      "    ['CPEAK' '2008-07-28' 400 'Tipping Rain Bucket' 0.0 'mm' 'G']\n",
      "    ['CPEAK' '2008-07-28' 500 'Tipping Rain Bucket' 0.0 'mm' 'G']\n",
      "    ['CPEAK' '2008-07-28' 600 'Tipping Rain Bucket' 0.0 'mm' 'G']\n",
      "    ['CPEAK' '2008-07-28' 700 'Tipping Rain Bucket' 0.0 'mm' 'G']\n",
      "    ['CPEAK' '2008-07-28' 800 'Tipping Rain Bucket' 0.0 'mm' 'G']\n",
      "    ['CPEAK' '2008-07-28' 900 'Tipping Rain Bucket' 0.0 'mm' 'G']\n",
      "    ['CPEAK' '2008-07-28' 1000 'Tipping Rain Bucket' 0.0 'mm' 'G']\n"
     ]
    }
   ],
   "source": [
    "# We have a consistent precip measured over 3 days\n",
    "print 'Example of the hourly data from CPEAK file:' \n",
    "for i in range(10):\n",
    "    print \"   \",Series(cpeak.ix[129710+i,:]).values"
   ]
  },
  {
   "cell_type": "code",
   "execution_count": 8,
   "metadata": {
    "collapsed": false
   },
   "outputs": [
    {
     "data": {
      "image/png": "[encoded data removed]",
      "text/plain": [
       "<matplotlib.figure.Figure at 0x114703c50>"
      ]
     },
     "metadata": {},
     "output_type": "display_data"
    }
   ],
   "source": [
    "plt.plot(p_cpeak[129710:129782]*0.001); plt.title('summer 2008');\n",
    "plt.xlabel('Time (hours)'); plt.ylabel('Precipitation ($m/s$)');"
   ]
  }
 ],
 "metadata": {
  "anaconda-cloud": {},
  "kernelspec": {
   "display_name": "Python [Root]",
   "language": "python",
   "name": "Python [Root]"
  },
  "language_info": {
   "codemirror_mode": {
    "name": "ipython",
    "version": 2
   },
   "file_extension": ".py",
   "mimetype": "text/x-python",
   "name": "python",
   "nbconvert_exporter": "python",
   "pygments_lexer": "ipython2",
   "version": "2.7.12"
  }
 },
 "nbformat": 4,
 "nbformat_minor": 0
}
