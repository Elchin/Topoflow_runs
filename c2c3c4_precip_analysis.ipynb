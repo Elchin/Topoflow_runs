{
 "cells": [
  {
   "cell_type": "code",
   "execution_count": 1,
   "metadata": {
    "collapsed": false
   },
   "outputs": [],
   "source": [
    "%matplotlib inline\n",
    "import numpy as np\n",
    "from pandas import Series, DataFrame\n",
    "import pandas as pd\n",
    "import matplotlib.pyplot as plt"
   ]
  },
  {
   "cell_type": "code",
   "execution_count": 2,
   "metadata": {
    "collapsed": false
   },
   "outputs": [
    {
     "name": "stdout",
     "output_type": "stream",
     "text": [
      "Index([u'site_id', u'date', u'hour', u'measurement', u'value', u'unit',\n",
      "       u'flag'],\n",
      "      dtype='object')\n",
      "['CARSNOW' '2006-10-04' 1500 'Tipping Rain Bucket' 0.0 'mm' 'G']\n"
     ]
    }
   ],
   "source": [
    "# Download the precip data from the BNZ LTER website and store it in the same folder\n",
    "# Downloaded files should be identical to the p_file names\n",
    "# This seaction prints out headers of the csv files. Units [mm]\n",
    "# Note that all txt files have similar structure\n",
    "p_file='167_TIPBUCK_HR1A_2001-2014.txt'\n",
    "hr1a= pd.read_csv(p_file)\n",
    "\n",
    "p_file='167_TIPBUCK_CPEAK_1993-2014.txt'\n",
    "cpeak= pd.read_csv(p_file)\n",
    "\n",
    "p_file='167_TIPBUCK_CRREL_2007-2014.txt'\n",
    "crrel= pd.read_csv(p_file)\n",
    "\n",
    "p_file='167_TIPBUCK_CARSNOW_2006-2014.txt'\n",
    "carsnow= pd.read_csv(p_file)\n",
    "print Series(carsnow.ix[0,:]).keys()\n",
    "print Series(carsnow.ix[1,:]).values"
   ]
  },
  {
   "cell_type": "code",
   "execution_count": 3,
   "metadata": {
    "collapsed": false
   },
   "outputs": [
    {
     "name": "stdout",
     "output_type": "stream",
     "text": [
      "n_hr1a: 109413\n",
      "n_cpeak: 184414\n",
      "n_crrel: 65530\n",
      "n_carsnow: 71810\n"
     ]
    }
   ],
   "source": [
    "d_hr1a=Series(hr1a.ix[:,1]).values\n",
    "h_hr1a=Series(hr1a.ix[:,2]).values\n",
    "p_hr1a=Series(hr1a.ix[:,4]).values\n",
    "n_hr1a=len(d_hr1a)\n",
    "\n",
    "d_cpeak=Series(cpeak.ix[:,1]).values\n",
    "h_cpeak=Series(cpeak.ix[:,2]).values\n",
    "p_cpeak=Series(cpeak.ix[:,4]).values\n",
    "n_cpeak=len(d_cpeak)\n",
    "\n",
    "d_crrel=Series(crrel.ix[:,1]).values\n",
    "h_crrel=Series(crrel.ix[:,2]).values\n",
    "p_crrel=Series(crrel.ix[:,4]).values\n",
    "n_crrel=len(d_crrel)\n",
    "\n",
    "d_carsnow=Series(carsnow.ix[:,1]).values\n",
    "h_carsnow=Series(carsnow.ix[:,2]).values\n",
    "p_carsnow=Series(carsnow.ix[:,4]).values\n",
    "n_carsnow=len(d_carsnow)\n",
    "\n",
    "print 'n_hr1a:',n_hr1a\n",
    "print 'n_cpeak:',n_cpeak\n",
    "print 'n_crrel:',n_crrel\n",
    "print 'n_carsnow:',n_carsnow"
   ]
  },
  {
   "cell_type": "markdown",
   "metadata": {},
   "source": [
    "Below we are going to analyse each rain stations separately using '*do_time_ser_exist*' function"
   ]
  },
  {
   "cell_type": "code",
   "execution_count": 4,
   "metadata": {
    "collapsed": false
   },
   "outputs": [],
   "source": [
    "def do_time_ser_exist(data,hour,start,h_hour,end,p):\n",
    "    n=len(data);a=[]; b=[];\n",
    "    for i in range(n):\n",
    "        if data[i]==start and hour[i]==h_hour:\n",
    "            a=i\n",
    "            print data[i],a\n",
    "        if data[i]==end and hour[i]==h_hour:\n",
    "            b=i\n",
    "            print data[i],b\n",
    "    if a==[] or b==[]:\n",
    "        print 'NO DATA'\n",
    "    else:\n",
    "        pp = p[a:b]\n",
    "        pp = pp[~np.isnan(pp)]\n",
    "        if pp.size:\n",
    "            print 'min_precip=',np.min(pp), ' max_precip=',np.max(pp), ',over # of hours:',b-a\n",
    "        else:\n",
    "            print 'EMPTY ARRAY (CORRUPTED DATA)'        "
   ]
  },
  {
   "cell_type": "markdown",
   "metadata": {},
   "source": [
    "**hr1a:**"
   ]
  },
  {
   "cell_type": "code",
   "execution_count": 5,
   "metadata": {
    "collapsed": false
   },
   "outputs": [
    {
     "name": "stdout",
     "output_type": "stream",
     "text": [
      "2002-06-15 6656\n",
      "2002-09-15 8851\n",
      "min_precip= 0.0  max_precip= 25.4 ,over # of hours: 2195\n",
      "2003-06-15 14365\n",
      "2003-09-15 16573\n",
      "min_precip= 0.0  max_precip= 13.716 ,over # of hours: 2208\n",
      "2004-06-15 23101\n",
      "2004-08-15 24456\n",
      "min_precip= 0.0  max_precip= 14.732 ,over # of hours: 1355\n",
      "2005-09-15 32182\n",
      "NO DATA\n",
      "2006-06-15 36089\n",
      "2006-09-15 38296\n",
      "min_precip= 0.0  max_precip= 40.39 ,over # of hours: 2207\n",
      "2007-06-20 44528\n",
      "2007-09-15 46616\n",
      "min_precip= 0.0  max_precip= 34.29 ,over # of hours: 2088\n",
      "2008-06-15 53192\n",
      "2008-09-15 55400\n",
      "min_precip= 0.0  max_precip= 26.42 ,over # of hours: 2208\n",
      "2009-09-15 63001\n",
      "NO DATA\n",
      "2010-06-15 69552\n",
      "2010-09-15 71760\n",
      "min_precip= 0.0  max_precip= 7.2 ,over # of hours: 2208\n",
      "2011-06-15 78312\n",
      "2011-09-15 80520\n",
      "min_precip= 0.0  max_precip= 6.6 ,over # of hours: 2208\n",
      "2012-06-15 87095\n",
      "2012-09-15 89302\n",
      "min_precip= 0.0  max_precip= 8.9 ,over # of hours: 2207\n",
      "2013-06-15 95854\n",
      "2013-09-15 98062\n",
      "min_precip= 0.0  max_precip= 22.9 ,over # of hours: 2208\n",
      "2014-06-15 104613\n",
      "2014-09-15 106821\n",
      "min_precip= 0.0  max_precip= 11.7 ,over # of hours: 2208\n"
     ]
    }
   ],
   "source": [
    "do_time_ser_exist(d_hr1a,h_hr1a,'2002-06-15',100,'2002-09-15',p_hr1a)\n",
    "do_time_ser_exist(d_hr1a,h_hr1a,'2003-06-15',100,'2003-09-15',p_hr1a)\n",
    "do_time_ser_exist(d_hr1a,h_hr1a,'2004-06-15',100,'2004-08-15',p_hr1a)\n",
    "do_time_ser_exist(d_hr1a,h_hr1a,'2005-06-15',100,'2005-09-15',p_hr1a)\n",
    "do_time_ser_exist(d_hr1a,h_hr1a,'2006-06-15',100,'2006-09-15',p_hr1a)\n",
    "do_time_ser_exist(d_hr1a,h_hr1a,'2007-06-20',100,'2007-09-15',p_hr1a)\n",
    "do_time_ser_exist(d_hr1a,h_hr1a,'2008-06-15',100,'2008-09-15',p_hr1a)\n",
    "do_time_ser_exist(d_hr1a,h_hr1a,'2009-06-15',100,'2009-09-15',p_hr1a)\n",
    "do_time_ser_exist(d_hr1a,h_hr1a,'2010-06-15',100,'2010-09-15',p_hr1a)\n",
    "do_time_ser_exist(d_hr1a,h_hr1a,'2011-06-15',100,'2011-09-15',p_hr1a)\n",
    "do_time_ser_exist(d_hr1a,h_hr1a,'2012-06-15',100,'2012-09-15',p_hr1a)\n",
    "do_time_ser_exist(d_hr1a,h_hr1a,'2013-06-15',100,'2013-09-15',p_hr1a)\n",
    "do_time_ser_exist(d_hr1a,h_hr1a,'2014-06-15',100,'2014-09-15',p_hr1a)"
   ]
  },
  {
   "cell_type": "code",
   "execution_count": 6,
   "metadata": {
    "collapsed": false
   },
   "outputs": [
    {
     "data": {
      "image/png": "[encoded data removed]",
      "text/plain": [
       "<matplotlib.figure.Figure at 0x1148677d0>"
      ]
     },
     "metadata": {},
     "output_type": "display_data"
    }
   ],
   "source": [
    "plt.plot(p_hr1a[44528:46616]); plt.title('hr1a summer 2007');"
   ]
  },
  {
   "cell_type": "code",
   "execution_count": 7,
   "metadata": {
    "collapsed": false
   },
   "outputs": [
    {
     "data": {
      "image/png": "[encoded data removed]",
      "text/plain": [
       "<matplotlib.figure.Figure at 0x10da1e510>"
      ]
     },
     "metadata": {},
     "output_type": "display_data"
    }
   ],
   "source": [
    "plt.plot(p_hr1a[53192:55400]); plt.title('hr1a summer 2008');"
   ]
  },
  {
   "cell_type": "markdown",
   "metadata": {},
   "source": [
    "**cpeak:**"
   ]
  },
  {
   "cell_type": "code",
   "execution_count": 9,
   "metadata": {
    "collapsed": false
   },
   "outputs": [
    {
     "name": "stdout",
     "output_type": "stream",
     "text": [
      "2002-06-15 76312\n",
      "2002-09-15 78520\n",
      "min_precip= 0.0  max_precip= 7.29 ,over # of hours: 2208\n",
      "2003-06-15 85011\n",
      "2003-09-15 87219\n",
      "min_precip= 0.0  max_precip= 5.67 ,over # of hours: 2208\n",
      "2004-06-15 93791\n",
      "NO DATA\n",
      "2005-06-15 102477\n",
      "2005-09-15 104685\n",
      "min_precip= 0.0  max_precip= 8.91 ,over # of hours: 2208\n",
      "2006-06-15 111217\n",
      "2006-09-15 113425\n",
      "min_precip= 0.0  max_precip= 7.83 ,over # of hours: 2208\n",
      "2007-06-15 119894\n",
      "2007-09-15 122102\n",
      "min_precip= 0.0  max_precip= 13.23 ,over # of hours: 2208\n",
      "2008-06-15 128678\n",
      "2008-09-15 130886\n",
      "min_precip= 0.0  max_precip= 7.02 ,over # of hours: 2208\n",
      "2009-06-15 137436\n",
      "2009-09-15 139644\n",
      "min_precip= 0.0  max_precip= 5.588 ,over # of hours: 2208\n",
      "2010-06-15 146194\n",
      "2010-09-15 148402\n",
      "min_precip= 0.0  max_precip= 5.588 ,over # of hours: 2208\n",
      "2011-06-15 154954\n",
      "2011-09-15 157162\n",
      "min_precip= 0.0  max_precip= 11.18 ,over # of hours: 2208\n",
      "2012-06-15 163738\n",
      "2012-09-15 165944\n",
      "min_precip= 0.0  max_precip= 5.842 ,over # of hours: 2206\n",
      "2013-06-15 172496\n",
      "2013-09-15 174704\n",
      "min_precip= 0.0  max_precip= 8.38 ,over # of hours: 2208\n",
      "2014-06-15 181255\n",
      "2014-09-15 182182\n",
      "min_precip= 0.0  max_precip= 6.096 ,over # of hours: 927\n"
     ]
    }
   ],
   "source": [
    "do_time_ser_exist(d_cpeak,h_cpeak,'2002-06-15',100,'2002-09-15',p_cpeak)\n",
    "do_time_ser_exist(d_cpeak,h_cpeak,'2003-06-15',100,'2003-09-15',p_cpeak)\n",
    "do_time_ser_exist(d_cpeak,h_cpeak,'2004-06-15',100,'2004-09-15',p_cpeak)\n",
    "do_time_ser_exist(d_cpeak,h_cpeak,'2005-06-15',100,'2005-09-15',p_cpeak)\n",
    "do_time_ser_exist(d_cpeak,h_cpeak,'2006-06-15',100,'2006-09-15',p_cpeak)\n",
    "do_time_ser_exist(d_cpeak,h_cpeak,'2007-06-15',100,'2007-09-15',p_cpeak)\n",
    "do_time_ser_exist(d_cpeak,h_cpeak,'2008-06-15',100,'2008-09-15',p_cpeak)\n",
    "do_time_ser_exist(d_cpeak,h_cpeak,'2009-06-15',100,'2009-09-15',p_cpeak)\n",
    "do_time_ser_exist(d_cpeak,h_cpeak,'2010-06-15',100,'2010-09-15',p_cpeak)\n",
    "do_time_ser_exist(d_cpeak,h_cpeak,'2011-06-15',100,'2011-09-15',p_cpeak)\n",
    "do_time_ser_exist(d_cpeak,h_cpeak,'2012-06-15',100,'2012-09-15',p_cpeak)\n",
    "do_time_ser_exist(d_cpeak,h_cpeak,'2013-06-15',100,'2013-09-15',p_cpeak)\n",
    "do_time_ser_exist(d_cpeak,h_cpeak,'2014-06-15',100,'2014-09-15',p_cpeak)"
   ]
  },
  {
   "cell_type": "code",
   "execution_count": 10,
   "metadata": {
    "collapsed": false
   },
   "outputs": [
    {
     "data": {
      "image/png": "[encoded data removed]",
      "text/plain": [
       "<matplotlib.figure.Figure at 0x1151f7ad0>"
      ]
     },
     "metadata": {},
     "output_type": "display_data"
    }
   ],
   "source": [
    "plt.plot(p_cpeak[119894:122102]); plt.title('cpeak summer 2007');"
   ]
  },
  {
   "cell_type": "code",
   "execution_count": 11,
   "metadata": {
    "collapsed": false
   },
   "outputs": [
    {
     "data": {
      "image/png": "[encoded data removed]",
      "text/plain": [
       "<matplotlib.figure.Figure at 0x115afb310>"
      ]
     },
     "metadata": {},
     "output_type": "display_data"
    }
   ],
   "source": [
    "plt.plot(p_cpeak[128678:130886]); plt.title('cpeak summer 2008');"
   ]
  },
  {
   "cell_type": "markdown",
   "metadata": {},
   "source": [
    "**crrel:**"
   ]
  },
  {
   "cell_type": "code",
   "execution_count": 12,
   "metadata": {
    "collapsed": false
   },
   "outputs": [
    {
     "name": "stdout",
     "output_type": "stream",
     "text": [
      "2007-07-01 0\n",
      "2007-09-15 1813\n",
      "min_precip= 0.0  max_precip= 6.096 ,over # of hours: 1813\n",
      "2008-06-15 8338\n",
      "2008-09-15 10543\n",
      "min_precip= 0.0  max_precip= 8.13 ,over # of hours: 2205\n",
      "2009-06-15 16926\n",
      "2009-09-15 19134\n",
      "min_precip= 0.0  max_precip= 10.41 ,over # of hours: 2208\n",
      "2010-06-15 25681\n",
      "2010-09-15 27889\n",
      "min_precip= 0.0  max_precip= 10.92 ,over # of hours: 2208\n",
      "2011-06-15 34439\n",
      "2011-09-15 36647\n",
      "min_precip= 0.0  max_precip= 9.65 ,over # of hours: 2208\n",
      "2012-06-15 43222\n",
      "2012-09-15 45428\n",
      "EMPTY ARRAY (CORRUPTED DATA)\n",
      "2013-06-15 51971\n",
      "2013-09-15 54179\n",
      "min_precip= 0.0  max_precip= 5.334 ,over # of hours: 2208\n",
      "2014-06-15 60730\n",
      "2014-09-15 62938\n",
      "min_precip= 0.0  max_precip= 12.95 ,over # of hours: 2208\n"
     ]
    }
   ],
   "source": [
    "do_time_ser_exist(d_crrel,h_crrel,'2007-07-01',100,'2007-09-15',p_crrel)\n",
    "do_time_ser_exist(d_crrel,h_crrel,'2008-06-15',100,'2008-09-15',p_crrel)\n",
    "do_time_ser_exist(d_crrel,h_crrel,'2009-06-15',100,'2009-09-15',p_crrel)\n",
    "do_time_ser_exist(d_crrel,h_crrel,'2010-06-15',100,'2010-09-15',p_crrel)\n",
    "do_time_ser_exist(d_crrel,h_crrel,'2011-06-15',100,'2011-09-15',p_crrel)\n",
    "do_time_ser_exist(d_crrel,h_crrel,'2012-06-15',100,'2012-09-15',p_crrel)\n",
    "do_time_ser_exist(d_crrel,h_crrel,'2013-06-15',100,'2013-09-15',p_crrel)\n",
    "do_time_ser_exist(d_crrel,h_crrel,'2014-06-15',100,'2014-09-15',p_crrel)"
   ]
  },
  {
   "cell_type": "code",
   "execution_count": 13,
   "metadata": {
    "collapsed": false
   },
   "outputs": [
    {
     "data": {
      "image/png": "[encoded data removed]",
      "text/plain": [
       "<matplotlib.figure.Figure at 0x11609f2d0>"
      ]
     },
     "metadata": {},
     "output_type": "display_data"
    }
   ],
   "source": [
    "plt.plot(p_crrel[0:1813]); plt.title('crrel summer 2007');"
   ]
  },
  {
   "cell_type": "code",
   "execution_count": 14,
   "metadata": {
    "collapsed": false
   },
   "outputs": [
    {
     "data": {
      "image/png": "[encoded data removed]",
      "text/plain": [
       "<matplotlib.figure.Figure at 0x117bd1750>"
      ]
     },
     "metadata": {},
     "output_type": "display_data"
    }
   ],
   "source": [
    "plt.plot(p_crrel[8338:10543]); plt.title('crrel summer 2008');"
   ]
  },
  {
   "cell_type": "markdown",
   "metadata": {},
   "source": [
    "**carsnow**"
   ]
  },
  {
   "cell_type": "code",
   "execution_count": 15,
   "metadata": {
    "collapsed": false
   },
   "outputs": [
    {
     "name": "stdout",
     "output_type": "stream",
     "text": [
      "NO DATA\n",
      "2007-06-15 5883\n",
      "2007-09-15 8091\n",
      "min_precip= 0.0  max_precip= 0.0 ,over # of hours: 2208\n",
      "2008-06-15 14618\n",
      "2008-09-15 16826\n",
      "min_precip= 0.0  max_precip= 16.0 ,over # of hours: 2208\n",
      "2009-06-15 23352\n",
      "2009-09-15 25560\n",
      "min_precip= 0.0  max_precip= 0.254 ,over # of hours: 2208\n",
      "2010-06-15 32012\n",
      "2010-09-15 34220\n",
      "min_precip= 0.0  max_precip= 3.048 ,over # of hours: 2208\n",
      "2011-06-15 40772\n",
      "2011-09-15 42980\n",
      "EMPTY ARRAY (CORRUPTED DATA)\n",
      "2012-06-15 49556\n",
      "2012-09-15 51764\n",
      "EMPTY ARRAY (CORRUPTED DATA)\n",
      "2013-06-15 58251\n",
      "2013-09-15 60459\n",
      "EMPTY ARRAY (CORRUPTED DATA)\n",
      "2014-06-15 67010\n",
      "2014-09-15 69218\n",
      "EMPTY ARRAY (CORRUPTED DATA)\n"
     ]
    }
   ],
   "source": [
    "do_time_ser_exist(d_carsnow,h_carsnow,'2006-07-01',100,'2006-09-15',p_carsnow)\n",
    "do_time_ser_exist(d_carsnow,h_carsnow,'2007-06-15',100,'2007-09-15',p_carsnow)\n",
    "do_time_ser_exist(d_carsnow,h_carsnow,'2008-06-15',100,'2008-09-15',p_carsnow)\n",
    "do_time_ser_exist(d_carsnow,h_carsnow,'2009-06-15',100,'2009-09-15',p_carsnow)\n",
    "do_time_ser_exist(d_carsnow,h_carsnow,'2010-06-15',100,'2010-09-15',p_carsnow)\n",
    "do_time_ser_exist(d_carsnow,h_carsnow,'2011-06-15',100,'2011-09-15',p_carsnow)\n",
    "do_time_ser_exist(d_carsnow,h_carsnow,'2012-06-15',100,'2012-09-15',p_carsnow)\n",
    "do_time_ser_exist(d_carsnow,h_carsnow,'2013-06-15',100,'2013-09-15',p_carsnow)\n",
    "do_time_ser_exist(d_carsnow,h_carsnow,'2014-06-15',100,'2014-09-15',p_carsnow)"
   ]
  },
  {
   "cell_type": "code",
   "execution_count": 16,
   "metadata": {
    "collapsed": false
   },
   "outputs": [
    {
     "data": {
      "image/png": "[encoded data removed]",
      "text/plain": [
       "<matplotlib.figure.Figure at 0x11a27ead0>"
      ]
     },
     "metadata": {},
     "output_type": "display_data"
    }
   ],
   "source": [
    "plt.plot(p_carsnow[14618:16826]); plt.title('carsnow summer 2008');"
   ]
  }
 ],
 "metadata": {
  "anaconda-cloud": {},
  "kernelspec": {
   "display_name": "Python [Root]",
   "language": "python",
   "name": "Python [Root]"
  },
  "language_info": {
   "codemirror_mode": {
    "name": "ipython",
    "version": 2
   },
   "file_extension": ".py",
   "mimetype": "text/x-python",
   "name": "python",
   "nbconvert_exporter": "python",
   "pygments_lexer": "ipython2",
   "version": "2.7.12"
  }
 },
 "nbformat": 4,
 "nbformat_minor": 0
}
