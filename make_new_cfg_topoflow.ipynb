{
 "cells": [
  {
   "cell_type": "code",
   "execution_count": 28,
   "metadata": {
    "collapsed": true
   },
   "outputs": [],
   "source": [
    "import numpy as np"
   ]
  },
  {
   "cell_type": "code",
   "execution_count": 29,
   "metadata": {
    "collapsed": false
   },
   "outputs": [],
   "source": [
    "# declaring dictinaries a and b \n",
    "# a - includes all the cfg files that has been copied\n",
    "# b - includes all the cfg endings\n",
    "test_path='Test2/Test2'\n",
    "test_case='Test2'\n",
    "a=['Test1/Test1_channels_diffusive_wave.cfg',   \n",
    "   'Test1/Test1_channels_dynamic_wave.cfg',\n",
    "   'Test1/Test1_channels_kinematic_wave.cfg',\n",
    "   'Test1/Test1_diversions_fraction_method.cfg', \n",
    "   'Test1/Test1_evap_energy_balance.cfg',\n",
    "   'Test1/Test1_satzone_darcy_layers.cfg',\n",
    "   'Test1/Test1_evap_priestley_taylor.cfg',\n",
    "   'Test1/Test1_snow_degree_day.cfg',\n",
    "   'Test1/Test1_ice_valley_glacier.cfg',\n",
    "   'Test1/Test1_snow_energy_balance.cfg',\n",
    "   'Test1/Test1_infil_green_ampt.cfg',\n",
    "   'Test1/Test1_topoflow.cfg',\n",
    "   'Test1/Test1_infil_richards_1d.cfg',\n",
    "   'Test1/Test1_infil_smith_parlange.cfg',\n",
    "   'Test1/Test1_infil_green_ampt.cfg',\n",
    "   'Test1/Test1_meteorology.cfg']\n",
    "\n",
    "b=['_channels_diffusive_wave.cfg',\n",
    "   '_channels_dynamic_wave.cfg',\n",
    "   '_channels_kinematic_wave.cfg',\n",
    "   '_diversions_fraction_method.cfg',\n",
    "   '_evap_energy_balance.cfg',\n",
    "   '_satzone_darcy_layers.cfg',\n",
    "   '_evap_priestley_taylor.cfg',\n",
    "   '_snow_degree_day.cfg',\n",
    "   '_ice_valley_glacier.cfg',\n",
    "   '_snow_energy_balance.cfg',\n",
    "   '_infil_green_ampt.cfg',\n",
    "   '_topoflow.cfg',\n",
    "   '_infil_richards_1d.cfg',\n",
    "   '_infil_smith_parlange.cfg',\n",
    "   '_infil_green_ampt.cfg',\n",
    "   '_meteorology.cfg']              "
   ]
  },
  {
   "cell_type": "code",
   "execution_count": 32,
   "metadata": {
    "collapsed": false
   },
   "outputs": [
    {
     "name": "stdout",
     "output_type": "stream",
     "text": [
      "Test2/Test2_channels_diffusive_wave.cfg\n",
      "Test2/Test2_channels_dynamic_wave.cfg\n",
      "Test2/Test2_channels_kinematic_wave.cfg\n",
      "Test2/Test2_diversions_fraction_method.cfg\n",
      "Test2/Test2_evap_energy_balance.cfg\n",
      "Test2/Test2_satzone_darcy_layers.cfg\n",
      "Test2/Test2_evap_priestley_taylor.cfg\n",
      "Test2/Test2_snow_degree_day.cfg\n",
      "Test2/Test2_ice_valley_glacier.cfg\n",
      "Test2/Test2_snow_energy_balance.cfg\n",
      "Test2/Test2_infil_green_ampt.cfg\n",
      "Test2/Test2_topoflow.cfg\n",
      "Test2/Test2_infil_richards_1d.cfg\n",
      "Test2/Test2_infil_smith_parlange.cfg\n",
      "Test2/Test2_infil_green_ampt.cfg\n",
      "Test2/Test2_meteorology.cfg\n"
     ]
    }
   ],
   "source": [
    "# assuming that 'Test3' folder is already exists\n",
    "# change all Test1 cases to Test3 inside the file\n",
    "\n",
    "c = [\"\" for x in range(len(b))]\n",
    "for i in range(len(b)):        # add new folder name and replace Tests\n",
    "    c[i]=test_path+b[i]\n",
    "    f2 = open(c[i], 'w'); f1 = open(a[i], 'r')\n",
    "    for line in f1:\n",
    "        f2.write(line.replace('Test1',test_case))\n",
    "    f2.close(); f1.close()\n",
    "    print c[i]"
   ]
  },
  {
   "cell_type": "code",
   "execution_count": null,
   "metadata": {
    "collapsed": true
   },
   "outputs": [],
   "source": []
  },
  {
   "cell_type": "code",
   "execution_count": null,
   "metadata": {
    "collapsed": true
   },
   "outputs": [],
   "source": []
  }
 ],
 "metadata": {
  "kernelspec": {
   "display_name": "Python 2",
   "language": "python",
   "name": "python2"
  },
  "language_info": {
   "codemirror_mode": {
    "name": "ipython",
    "version": 2
   },
   "file_extension": ".py",
   "mimetype": "text/x-python",
   "name": "python",
   "nbconvert_exporter": "python",
   "pygments_lexer": "ipython2",
   "version": "2.7.11"
  }
 },
 "nbformat": 4,
 "nbformat_minor": 0
}
